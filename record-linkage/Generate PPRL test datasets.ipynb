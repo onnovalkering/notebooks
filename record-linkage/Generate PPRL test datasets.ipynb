{
 "cells": [
  {
   "cell_type": "code",
   "execution_count": 1,
   "metadata": {},
   "outputs": [],
   "source": [
    "import pandas as pd\n",
    "import numpy as np\n",
    "\n",
    "from corruptor import ProbabilisticCorruptor\n",
    "\n",
    "import warnings\n",
    "warnings.filterwarnings(\"ignore\")"
   ]
  },
  {
   "cell_type": "code",
   "execution_count": 2,
   "metadata": {},
   "outputs": [],
   "source": [
    "ncvoter = pd.read_csv('ncvoter.txt', sep='\\t', header=0, encoding='latin1')"
   ]
  },
  {
   "cell_type": "code",
   "execution_count": 3,
   "metadata": {},
   "outputs": [
    {
     "data": {
      "text/html": [
       "<div>\n",
       "<table border=\"1\" class=\"dataframe\">\n",
       "  <thead>\n",
       "    <tr style=\"text-align: right;\">\n",
       "      <th></th>\n",
       "      <th>id</th>\n",
       "      <th>firstname</th>\n",
       "      <th>lastname</th>\n",
       "      <th>birthyear</th>\n",
       "      <th>address</th>\n",
       "      <th>city</th>\n",
       "      <th>zipcode</th>\n",
       "    </tr>\n",
       "  </thead>\n",
       "  <tbody>\n",
       "    <tr>\n",
       "      <th>0</th>\n",
       "      <td>1056273</td>\n",
       "      <td>evelyn</td>\n",
       "      <td>aabel</td>\n",
       "      <td>1935</td>\n",
       "      <td>4430 e greensboro-chapel hill rd</td>\n",
       "      <td>graham</td>\n",
       "      <td>27253</td>\n",
       "    </tr>\n",
       "    <tr>\n",
       "      <th>1</th>\n",
       "      <td>1098377</td>\n",
       "      <td>christina</td>\n",
       "      <td>aaron</td>\n",
       "      <td>1976</td>\n",
       "      <td>421 whitt ave</td>\n",
       "      <td>burlington</td>\n",
       "      <td>27215</td>\n",
       "    </tr>\n",
       "    <tr>\n",
       "      <th>2</th>\n",
       "      <td>1069747</td>\n",
       "      <td>claudia</td>\n",
       "      <td>aaron</td>\n",
       "      <td>1945</td>\n",
       "      <td>1013 edith st</td>\n",
       "      <td>burlington</td>\n",
       "      <td>27215</td>\n",
       "    </tr>\n",
       "    <tr>\n",
       "      <th>3</th>\n",
       "      <td>10170513</td>\n",
       "      <td>james</td>\n",
       "      <td>aaron</td>\n",
       "      <td>1948</td>\n",
       "      <td>po box 98</td>\n",
       "      <td>saxapahaw</td>\n",
       "      <td>27340</td>\n",
       "    </tr>\n",
       "    <tr>\n",
       "      <th>4</th>\n",
       "      <td>1091549</td>\n",
       "      <td>nathan</td>\n",
       "      <td>aaron</td>\n",
       "      <td>1976</td>\n",
       "      <td>421 whitt ave</td>\n",
       "      <td>burlington</td>\n",
       "      <td>27215</td>\n",
       "    </tr>\n",
       "  </tbody>\n",
       "</table>\n",
       "</div>"
      ],
      "text/plain": [
       "         id  firstname lastname  birthyear                           address  \\\n",
       "0   1056273     evelyn    aabel       1935  4430 e greensboro-chapel hill rd   \n",
       "1   1098377  christina    aaron       1976                     421 whitt ave   \n",
       "2   1069747    claudia    aaron       1945                     1013 edith st   \n",
       "3  10170513      james    aaron       1948                         po box 98   \n",
       "4   1091549     nathan    aaron       1976                     421 whitt ave   \n",
       "\n",
       "         city zipcode  \n",
       "0      graham   27253  \n",
       "1  burlington   27215  \n",
       "2  burlington   27215  \n",
       "3   saxapahaw   27340  \n",
       "4  burlington   27215  "
      ]
     },
     "execution_count": 3,
     "metadata": {},
     "output_type": "execute_result"
    }
   ],
   "source": [
    "columns = ['ncid', 'first_name', 'last_name', 'birth_year', 'mail_addr1', 'mail_city', 'mail_zipcode']\n",
    "ncvoter_selection = ncvoter[columns].dropna()\n",
    "\n",
    "# Cleaning\n",
    "for column in columns:\n",
    "    if ncvoter_selection[column].dtype == 'O':\n",
    "        ncvoter_selection[column] = ncvoter_selection[column].str.strip()\n",
    "        ncvoter_selection[column] = ncvoter_selection[column].str.lower()\n",
    "\n",
    "ncvoter_selection = ncvoter_selection.replace('', np.nan, regex=True).dropna()\n",
    "\n",
    "# Formatting\n",
    "ncvoter_selection.rename(columns={'ncid': 'id', 'first_name': 'firstname', 'last_name': 'lastname', 'birth_year': 'birthyear'}, inplace=True)\n",
    "ncvoter_selection.rename(columns={'mail_addr1': 'address', 'mail_city': 'city', 'mail_zipcode': 'zipcode'}, inplace=True)\n",
    "\n",
    "# Ensure unique numeric IDs\n",
    "prefixes = ncvoter_selection['id'].str[0:2].unique().tolist()\n",
    "ncvoter_selection['id'] = ncvoter_selection['id'].apply(lambda x: int(x[2:]) + ((10**(len(x[2:])+1)) * (prefixes.index(x[:2])+1)))\n",
    "\n",
    "# Validation\n",
    "assert len(ncvoter_selection) == len(ncvoter_selection['id'].unique())\n",
    "assert len(ncvoter_selection.query('firstname==\"\"')) == 0\n",
    "assert len(ncvoter_selection.query('lastname==\"\"')) == 0\n",
    "assert len(ncvoter_selection.query('address==\"\"')) == 0\n",
    "assert len(ncvoter_selection.query('city==\"\"')) == 0\n",
    "\n",
    "ncvoter_selection.head()"
   ]
  },
  {
   "cell_type": "code",
   "execution_count": 4,
   "metadata": {},
   "outputs": [
    {
     "data": {
      "text/plain": [
       "790150164"
      ]
     },
     "execution_count": 4,
     "metadata": {},
     "output_type": "execute_result"
    }
   ],
   "source": [
    "ncvoter_selection['id'].max()"
   ]
  },
  {
   "cell_type": "code",
   "execution_count": 5,
   "metadata": {},
   "outputs": [
    {
     "data": {
      "text/plain": [
       "7037317"
      ]
     },
     "execution_count": 5,
     "metadata": {},
     "output_type": "execute_result"
    }
   ],
   "source": [
    "len(ncvoter_selection)"
   ]
  },
  {
   "cell_type": "code",
   "execution_count": 6,
   "metadata": {},
   "outputs": [],
   "source": [
    "def take_random_sample(df, n):\n",
    "    rows = np.random.choice(df.index.values, n, replace=False)\n",
    "    sample = df.loc[rows]\n",
    "    \n",
    "    return sample[:n]"
   ]
  },
  {
   "cell_type": "code",
   "execution_count": 7,
   "metadata": {},
   "outputs": [],
   "source": [
    "\"\"\"dataframe_corruptor.py\"\"\"\n",
    "from random import choices, sample\n",
    "\n",
    "class DataFrameCorruptor2():\n",
    "    \"\"\"DataFrameCorruptor definition\"\"\"\n",
    "\n",
    "    def __init__(self, mapping):\n",
    "        self.population = [(k, mapping[k][1]) for k in mapping.keys()]\n",
    "        self.weights = [mapping[k][0] for k in mapping.keys()]\n",
    "\n",
    "    def corrupt(self, df, n, inplace=False):\n",
    "        indices = sample(list(df.index), n)\n",
    "\n",
    "        df_wc = df if inplace else df.copy()\n",
    "        for i in indices:\n",
    "            (column, corruption) = choices(self.population, self.weights, k=1)[0]\n",
    "            df_wc.loc[i, column] = corruption.corrupt(df.loc[i, column])\n",
    "\n",
    "        return df_wc"
   ]
  },
  {
   "cell_type": "code",
   "execution_count": 8,
   "metadata": {},
   "outputs": [],
   "source": [
    "prob = ProbabilisticCorruptor({'none': 0.20, 'ocr': 0.40, 'typo': 0.40})\n",
    "dfc = DataFrameCorruptor2({\n",
    "    'firstname': (0.25, prob), \n",
    "    'lastname': (0.25, prob),\n",
    "    'address': (0.25, prob), \n",
    "    'city': (0.25, prob)\n",
    "})"
   ]
  },
  {
   "cell_type": "code",
   "execution_count": 9,
   "metadata": {},
   "outputs": [],
   "source": [
    "def create_two_party_datasets(size, overlap):\n",
    "    overlap_size = int(size * overlap)\n",
    "    overlap_size_half = int(overlap_size / 2)   \n",
    "    sample_size = (2 * (size - overlap_size))\n",
    "    sample_size_half = int(sample_size / 2)\n",
    "    \n",
    "    two_party = take_random_sample(ncvoter_selection, sample_size)\n",
    "    two_party_fh = two_party[:sample_size_half]\n",
    "    two_party_sh = two_party[sample_size_half:]\n",
    "\n",
    "    two_party_fh_cs = dfc.corrupt(take_random_sample(two_party_fh, overlap_size), overlap_size_half, inplace=True)\n",
    "    two_party_sh_cs = dfc.corrupt(take_random_sample(two_party_sh, overlap_size), overlap_size_half, inplace=True)\n",
    "    \n",
    "    two_party_a = pd.concat([two_party_fh, two_party_sh_cs])\n",
    "    two_party_b = pd.concat([two_party_sh, two_party_fh_cs])\n",
    "    \n",
    "    return (two_party_a, two_party_b)"
   ]
  },
  {
   "cell_type": "code",
   "execution_count": 10,
   "metadata": {},
   "outputs": [],
   "source": [
    "two_party_4m_a, two_party_4m_b = create_two_party_datasets(4000 * 1000, 0.121)\n",
    "\n",
    "two_party_4m_a.to_csv('two_party_4m_a.csv', index=False)\n",
    "two_party_4m_b.to_csv('two_party_4m_b.csv', index=False)"
   ]
  },
  {
   "cell_type": "code",
   "execution_count": 11,
   "metadata": {},
   "outputs": [],
   "source": [
    "# sample = take_random_sample(ncvoter_selection, 1 * 10**3)\n",
    "# sample.head()"
   ]
  },
  {
   "cell_type": "code",
   "execution_count": 2,
   "metadata": {},
   "outputs": [],
   "source": [
    "fs = [\n",
    "#     'two_party_50k_a.csv',\n",
    "#     'two_party_50k_b.csv',\n",
    "    \n",
    "#     'two_party_100k_a.csv',\n",
    "#     'two_party_100k_b.csv',\n",
    "    \n",
    "#     'two_party_200k_a.csv',\n",
    "#     'two_party_200k_b.csv',\n",
    "    \n",
    "#     'two_party_500k_a.csv',\n",
    "#     'two_party_500k_b.csv',\n",
    "    \n",
    "#     'two_party_1m_a.csv',\n",
    "#     'two_party_1m_b.csv',\n",
    "    \n",
    "#     'two_party_1m500k_a.csv',\n",
    "#     'two_party_1m500k_b.csv',\n",
    "    \n",
    "#     'two_party_2m_a.csv',\n",
    "#     'two_party_2m_b.csv',\n",
    "    \n",
    "#     'two_party_3m_a.csv',\n",
    "#     'two_party_3m_b.csv',\n",
    "    \n",
    "#     'two_party_2m500k_a.csv',\n",
    "#     'two_party_2m500k_b.csv',\n",
    "    \n",
    "#     'two_party_3m500k_a.csv',\n",
    "#     'two_party_3m500k_b.csv',\n",
    "    \n",
    "    'two_party_4m_a.csv',\n",
    "    'two_party_4m_b.csv'\n",
    "]\n",
    "\n",
    "for f in fs:\n",
    "    pd.read_csv(f).dropna().to_csv(f, index=False)"
   ]
  }
 ],
 "metadata": {
  "kernelspec": {
   "display_name": "Python 3",
   "language": "python",
   "name": "python3"
  },
  "language_info": {
   "codemirror_mode": {
    "name": "ipython",
    "version": 3
   },
   "file_extension": ".py",
   "mimetype": "text/x-python",
   "name": "python",
   "nbconvert_exporter": "python",
   "pygments_lexer": "ipython3",
   "version": "3.6.5"
  }
 },
 "nbformat": 4,
 "nbformat_minor": 2
}