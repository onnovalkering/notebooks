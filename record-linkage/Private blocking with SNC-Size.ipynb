{
 "cells": [
  {
   "cell_type": "markdown",
   "metadata": {},
   "source": [
    "# Private blocking with SNC-Size\n",
    "For Sorted Neighborhood Clustering (SNC) we define:\n",
    "\n",
    "- $D^A$ as a set of $n_{D^A}$ records from database A;\n",
    "- $D^B$ as a set of $n_{D^B}$ records from database B;\n",
    "- $k$ as the minimum number of elements in a cluster;\n",
    "- a ordered list $R$ of $n_R$ (public) reference values.\n",
    "\n",
    "The value of $n_R$ can be determined using:\n",
    "\n",
    "$$n_R = \\frac{min(n_{D^A}, n_{D^B})}{k}$$\n",
    "\n",
    "\n",
    "\n",
    "\n"
   ]
  },
  {
   "cell_type": "code",
   "execution_count": 1,
   "metadata": {},
   "outputs": [],
   "source": [
    "Da = [\n",
    "    # ID     Surname   Firstname\n",
    "    ('RA1', 'millar', 'robert'),\n",
    "    ('RA2', 'marten', 'amyas'),\n",
    "    ('RA3', 'melar', 'gail'),\n",
    "    ('RA4', 'miller', 'robart'),\n",
    "    ('RA5', 'morley', 'william'),\n",
    "    ('RA6', 'philips', 'colin'),\n",
    "    ('RA7', 'smith', 'alisen'),\n",
    "    ('RA8', 'sampson', 'taylor')\n",
    "]\n",
    "\n",
    "Db = [\n",
    "    # ID     Surname   Firstname    \n",
    "    ('RB1', 'millar', 'robert'),\n",
    "    ('RB2', 'marris', 'roberto'),\n",
    "    ('RB3', 'malar', 'gayle'),\n",
    "    ('RB4', 'perris', 'charles'),\n",
    "    ('RB5', 'robbins', 'william'),\n",
    "    ('RB6', 'robertson', 'amy'),\n",
    "    ('RB7', 'samuell', 'tailor'),\n",
    "    ('RB8', 'smeeth', 'rupert'),\n",
    "    ('RB9', 'smith', 'alison')\n",
    "]\n",
    "\n",
    "k = 3\n",
    "\n",
    "R = {\n",
    "    1: 'miller',\n",
    "    2: 'robinson',\n",
    "    3: 'smith'\n",
    "}   "
   ]
  },
  {
   "cell_type": "markdown",
   "metadata": {},
   "source": [
    "Clusters are created by inserting records into $R$ based on their sorting key value (SKV). The SKV can be anything as long as it correctly positions records relative to the values of $R$. In this example we use the concatenation of surename and firstname as SKV."
   ]
  },
  {
   "cell_type": "code",
   "execution_count": 2,
   "metadata": {},
   "outputs": [],
   "source": [
    "def get_skv(record):\n",
    "    \"\"\"Composes a sorting key value for the provided record.\"\"\"\n",
    "    return record[1] + record[2]\n",
    "\n",
    "def cluster(records):\n",
    "    \"\"\"Creates clusters based on the provided records.\"\"\"\n",
    "    records = sorted(records, key=lambda rec: get_skv(rec))\n",
    "    clusters = {i:[] for i in R.keys()}\n",
    "    \n",
    "    cursor = 1\n",
    "    for rec in records:\n",
    "        while get_skv(rec) > R[cursor] and cursor < max(R.keys()):\n",
    "            cursor += 1\n",
    "            \n",
    "        clusters[cursor].append(rec)\n",
    "        \n",
    "    return clusters"
   ]
  },
  {
   "cell_type": "code",
   "execution_count": 3,
   "metadata": {},
   "outputs": [
    {
     "data": {
      "text/plain": [
       "{1: [('RA2', 'marten', 'amyas'),\n",
       "  ('RA3', 'melar', 'gail'),\n",
       "  ('RA1', 'millar', 'robert')],\n",
       " 2: [('RA4', 'miller', 'robart'),\n",
       "  ('RA5', 'morley', 'william'),\n",
       "  ('RA6', 'philips', 'colin')],\n",
       " 3: [('RA8', 'sampson', 'taylor'), ('RA7', 'smith', 'alisen')]}"
      ]
     },
     "execution_count": 3,
     "metadata": {},
     "output_type": "execute_result"
    }
   ],
   "source": [
    "Da_clusters = cluster(Da)\n",
    "Da_clusters"
   ]
  },
  {
   "cell_type": "code",
   "execution_count": 4,
   "metadata": {},
   "outputs": [
    {
     "data": {
      "text/plain": [
       "{1: [('RB3', 'malar', 'gayle'),\n",
       "  ('RB2', 'marris', 'roberto'),\n",
       "  ('RB1', 'millar', 'robert')],\n",
       " 2: [('RB4', 'perris', 'charles'),\n",
       "  ('RB5', 'robbins', 'william'),\n",
       "  ('RB6', 'robertson', 'amy')],\n",
       " 3: [('RB7', 'samuell', 'tailor'),\n",
       "  ('RB8', 'smeeth', 'rupert'),\n",
       "  ('RB9', 'smith', 'alison')]}"
      ]
     },
     "execution_count": 4,
     "metadata": {},
     "output_type": "execute_result"
    }
   ],
   "source": [
    "Db_clusters = cluster(Db)\n",
    "Db_clusters"
   ]
  },
  {
   "cell_type": "markdown",
   "metadata": {},
   "source": [
    "We can merge clusters together to make sure we only have clusters with at least $k$ elements. \n",
    "\n",
    "With SNC-Size we merge solely based on size:\n",
    "\n",
    "- find smallest cluster $c_i$ with less than $k$ elements;\n",
    "- merge $c_i$ with the smallest of its two neighbors $c_{i-1}$ and $c_{i+1}$;\n",
    "- repeat these steps until only clusters with more than $k$ elements remain.\n",
    "\n",
    "Created clusters will be assigned an ID that indicated the range of $R$ values that it contains."
   ]
  },
  {
   "cell_type": "code",
   "execution_count": 5,
   "metadata": {},
   "outputs": [],
   "source": [
    "def above_cluster(i, clusters):\n",
    "    \"\"\"Returns the cluster above the indicated cluster.\"\"\"\n",
    "    i_max = max(clusters.keys())\n",
    "    if i == i_max:\n",
    "        return (i, None)\n",
    "\n",
    "    cluster = None\n",
    "    while cluster is None and i <= n:\n",
    "        i += 1\n",
    "        cluster = clusters.get(i, None)\n",
    "\n",
    "    return (i, cluster)\n",
    "\n",
    "def below_cluster(i, clusters):\n",
    "    \"\"\"Returns the cluster below the indicated cluster.\"\"\"\n",
    "    i_min = min(clusters.keys())\n",
    "    if i == i_min:\n",
    "        return (i, None)\n",
    "\n",
    "    cluster = None\n",
    "    while cluster is None and i >= 1:\n",
    "        i -= 1\n",
    "        cluster = clusters.get(i, None)\n",
    "\n",
    "    return (i, cluster)\n",
    "\n",
    "def get_smallest(clusters):\n",
    "    \"\"\"Returns the smallest cluster.\"\"\"\n",
    "    return sorted(list(clusters.values()), key=lambda c: len(c))[0]\n",
    "\n",
    "def has_too_small(k, clusters):\n",
    "    \"\"\"Indicates if there are clusters that are smaller than k.\"\"\"\n",
    "    return len(get_smallest(clusters)) < k\n",
    "\n",
    "def get_cluster_ids(clusters):\n",
    "    \"\"\"Returns IDs for provided clusters.\"\"\"\n",
    "    keys = list(clusters.keys())\n",
    "    keys_n = len(keys)\n",
    "    \n",
    "    for i in range(keys_n):\n",
    "        if i < keys_n-1:\n",
    "            to = keys[i+1] - 1\n",
    "        else:\n",
    "            to = max(list(R.keys()))\n",
    "\n",
    "        yield (keys[i], to)         \n",
    "\n",
    "def merge_clusters(clusters):\n",
    "    \"\"\"Merges clusters based on size.\"\"\"\n",
    "    while has_too_small(k, clusters):\n",
    "        smallest = get_smallest(clusters)\n",
    "\n",
    "        smallest_i = list(clusters.values()).index(smallest) + 1\n",
    "        smallest_l = len(smallest)\n",
    "        \n",
    "        above_i, above_c = above_cluster(smallest_i, clusters)\n",
    "        below_i, below_c = below_cluster(smallest_i, clusters)\n",
    "\n",
    "        if below_c is None and above_c is None:\n",
    "            break\n",
    "            \n",
    "        if below_c is None:\n",
    "            clusters[smallest_i] += clusters[above_i]\n",
    "            clusters.pop(above_i)\n",
    "        elif above_c is None or len(below_c) < len(above_c):\n",
    "            clusters[below_i] += clusters[smallest_i]\n",
    "            clusters.pop(smallest_i)\n",
    "        else:\n",
    "            clusters[smallest_i] += clusters[above_i]\n",
    "            clusters.pop(above_i)\n",
    "            \n",
    "    ids = get_cluster_ids(clusters)\n",
    "    return {c_id: c for (c_id, c) in zip(ids, clusters.values())}"
   ]
  },
  {
   "cell_type": "code",
   "execution_count": 6,
   "metadata": {},
   "outputs": [
    {
     "data": {
      "text/plain": [
       "{(1, 1): [('RA2', 'marten', 'amyas'),\n",
       "  ('RA3', 'melar', 'gail'),\n",
       "  ('RA1', 'millar', 'robert')],\n",
       " (2, 3): [('RA4', 'miller', 'robart'),\n",
       "  ('RA5', 'morley', 'william'),\n",
       "  ('RA6', 'philips', 'colin'),\n",
       "  ('RA8', 'sampson', 'taylor'),\n",
       "  ('RA7', 'smith', 'alisen')]}"
      ]
     },
     "execution_count": 6,
     "metadata": {},
     "output_type": "execute_result"
    }
   ],
   "source": [
    "Da_merged = merge_clusters(Da_clusters)\n",
    "Da_merged"
   ]
  },
  {
   "cell_type": "code",
   "execution_count": 7,
   "metadata": {},
   "outputs": [
    {
     "data": {
      "text/plain": [
       "{(1, 1): [('RB3', 'malar', 'gayle'),\n",
       "  ('RB2', 'marris', 'roberto'),\n",
       "  ('RB1', 'millar', 'robert')],\n",
       " (2, 2): [('RB4', 'perris', 'charles'),\n",
       "  ('RB5', 'robbins', 'william'),\n",
       "  ('RB6', 'robertson', 'amy')],\n",
       " (3, 3): [('RB7', 'samuell', 'tailor'),\n",
       "  ('RB8', 'smeeth', 'rupert'),\n",
       "  ('RB9', 'smith', 'alison')]}"
      ]
     },
     "execution_count": 7,
     "metadata": {},
     "output_type": "execute_result"
    }
   ],
   "source": [
    "Db_merged = merge_clusters(Db_clusters)\n",
    "Db_merged"
   ]
  },
  {
   "cell_type": "markdown",
   "metadata": {},
   "source": [
    "After creating clusters, we can indicate candidate pairs for comparison by linking blocks with overlapping ID-ranges."
   ]
  },
  {
   "cell_type": "code",
   "execution_count": 8,
   "metadata": {},
   "outputs": [
    {
     "name": "stdout",
     "output_type": "stream",
     "text": [
      "Compare A(1, 1) with B(1, 1)\n",
      "Compare A(2, 3) with B(2, 2), B(3, 3)\n"
     ]
    }
   ],
   "source": [
    "def has_overlap(a, b):\n",
    "    \"\"\"Indicates if there is overlap in ID-range.\"\"\"\n",
    "    a_range = range(a[0], a[1] + 1)\n",
    "    return b[0] in a_range or b[1] in a_range\n",
    "\n",
    "a_keys = Da_merged.keys()\n",
    "b_keys = Db_merged.keys()\n",
    "\n",
    "candidates = {a:[b for b in b_keys if has_overlap(a, b)] for a in a_keys}\n",
    "for a in candidates.keys():\n",
    "    print('Compare A{} with {}'.format(a, ', '.join(['B{}'.format(b) for b in candidates[a]])))"
   ]
  },
  {
   "cell_type": "markdown",
   "metadata": {},
   "source": [
    "## References\n",
    "- [Sorted Neighborhood Clustering for efficient private blocking](https://www.semanticscholar.org/paper/Sorted-Nearest-Neighborhood-Clustering-for-Efficie-Vatsalan-Christen/db50cda21cc0ae68e65fd40f0bb472decad6e4ec)"
   ]
  }
 ],
 "metadata": {
  "kernelspec": {
   "display_name": "Python 3",
   "language": "python",
   "name": "python3"
  },
  "language_info": {
   "codemirror_mode": {
    "name": "ipython",
    "version": 3
   },
   "file_extension": ".py",
   "mimetype": "text/x-python",
   "name": "python",
   "nbconvert_exporter": "python",
   "pygments_lexer": "ipython3",
   "version": "3.6.3"
  }
 },
 "nbformat": 4,
 "nbformat_minor": 2
}
