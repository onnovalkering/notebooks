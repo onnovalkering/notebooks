{
 "cells": [
  {
   "cell_type": "code",
   "execution_count": 4,
   "metadata": {},
   "outputs": [],
   "source": [
    "import recordlinkage\n",
    "import pandas as pd"
   ]
  },
  {
   "cell_type": "code",
   "execution_count": 38,
   "metadata": {},
   "outputs": [],
   "source": [
    "df_a = pd.read_csv(\"two_party_100k_a.csv\")\n",
    "df_b = pd.read_csv(\"two_party_100k_b.csv\")"
   ]
  },
  {
   "cell_type": "code",
   "execution_count": 39,
   "metadata": {},
   "outputs": [
    {
     "data": {
      "text/html": [
       "<div>\n",
       "<table border=\"1\" class=\"dataframe\">\n",
       "  <thead>\n",
       "    <tr style=\"text-align: right;\">\n",
       "      <th></th>\n",
       "      <th>id</th>\n",
       "      <th>firstname</th>\n",
       "      <th>lastname</th>\n",
       "      <th>birthyear</th>\n",
       "      <th>address</th>\n",
       "      <th>city</th>\n",
       "      <th>zipcode</th>\n",
       "    </tr>\n",
       "  </thead>\n",
       "  <tbody>\n",
       "    <tr>\n",
       "      <th>0</th>\n",
       "      <td>12020722</td>\n",
       "      <td>david</td>\n",
       "      <td>kirkman</td>\n",
       "      <td>1953</td>\n",
       "      <td>1355 gallup rd</td>\n",
       "      <td>chapel hill</td>\n",
       "      <td>27517</td>\n",
       "    </tr>\n",
       "    <tr>\n",
       "      <th>1</th>\n",
       "      <td>600205438</td>\n",
       "      <td>taylor</td>\n",
       "      <td>brown</td>\n",
       "      <td>1994</td>\n",
       "      <td>5341 pittstown rd</td>\n",
       "      <td>hickory</td>\n",
       "      <td>28602</td>\n",
       "    </tr>\n",
       "    <tr>\n",
       "      <th>2</th>\n",
       "      <td>30622736</td>\n",
       "      <td>vanessa</td>\n",
       "      <td>garris</td>\n",
       "      <td>1968</td>\n",
       "      <td>po box 1359</td>\n",
       "      <td>enka</td>\n",
       "      <td>28728</td>\n",
       "    </tr>\n",
       "    <tr>\n",
       "      <th>3</th>\n",
       "      <td>200130253</td>\n",
       "      <td>mandi</td>\n",
       "      <td>jones</td>\n",
       "      <td>1977</td>\n",
       "      <td>552 westminster cir</td>\n",
       "      <td>greenville</td>\n",
       "      <td>27858</td>\n",
       "    </tr>\n",
       "    <tr>\n",
       "      <th>4</th>\n",
       "      <td>150488552</td>\n",
       "      <td>jordan</td>\n",
       "      <td>smith</td>\n",
       "      <td>1990</td>\n",
       "      <td>1845 legacy park ln # 303</td>\n",
       "      <td>winston salem</td>\n",
       "      <td>27103</td>\n",
       "    </tr>\n",
       "  </tbody>\n",
       "</table>\n",
       "</div>"
      ],
      "text/plain": [
       "          id firstname lastname  birthyear                    address  \\\n",
       "0   12020722     david  kirkman       1953             1355 gallup rd   \n",
       "1  600205438    taylor    brown       1994          5341 pittstown rd   \n",
       "2   30622736   vanessa   garris       1968                po box 1359   \n",
       "3  200130253     mandi    jones       1977        552 westminster cir   \n",
       "4  150488552    jordan    smith       1990  1845 legacy park ln # 303   \n",
       "\n",
       "            city  zipcode  \n",
       "0    chapel hill    27517  \n",
       "1        hickory    28602  \n",
       "2           enka    28728  \n",
       "3     greenville    27858  \n",
       "4  winston salem    27103  "
      ]
     },
     "execution_count": 39,
     "metadata": {},
     "output_type": "execute_result"
    }
   ],
   "source": [
    "df_a.head()"
   ]
  },
  {
   "cell_type": "code",
   "execution_count": 40,
   "metadata": {},
   "outputs": [],
   "source": [
    "block_class = recordlinkage.BlockIndex('lastname')\n",
    "candidate_links = block_class.index(df_a, df_b)"
   ]
  },
  {
   "cell_type": "code",
   "execution_count": 41,
   "metadata": {},
   "outputs": [],
   "source": [
    "c = recordlinkage.Compare()\n",
    "\n",
    "c.string('firstname', 'firstname', method='jarowinkler', threshold=0.85)\n",
    "c.string('lastname', 'lastname', method='jarowinkler', threshold=0.85)\n",
    "c.string('address', 'address', method='damerau_levenshtein', threshold=0.7)\n",
    "c.string('city', 'city', method='damerau_levenshtein', threshold=0.7)\n",
    "\n",
    "# The comparison vectors\n",
    "feature_vectors = c.compute(candidate_links, df_a, df_b)"
   ]
  },
  {
   "cell_type": "code",
   "execution_count": 42,
   "metadata": {},
   "outputs": [
    {
     "name": "stdout",
     "output_type": "stream",
     "text": [
      "17902\n"
     ]
    }
   ],
   "source": [
    "matches = feature_vectors[feature_vectors.sum(axis=1) > 3]\n",
    "print(len(matches))"
   ]
  },
  {
   "cell_type": "code",
   "execution_count": 43,
   "metadata": {},
   "outputs": [],
   "source": [
    "tm = 0\n",
    "fm = 0\n",
    "\n",
    "for r, _ in matches.iterrows():\n",
    "    if (df_a.loc[r[0]] == df_b.loc[r[1]])[0]:\n",
    "        tm = tm + 1\n",
    "    else:\n",
    "        fm = fm + 1"
   ]
  },
  {
   "cell_type": "code",
   "execution_count": 44,
   "metadata": {},
   "outputs": [
    {
     "name": "stdout",
     "output_type": "stream",
     "text": [
      "17860\n",
      "42\n"
     ]
    }
   ],
   "source": [
    "print(tm)\n",
    "print(fm)"
   ]
  }
 ],
 "metadata": {
  "kernelspec": {
   "display_name": "Python 3",
   "language": "python",
   "name": "python3"
  },
  "language_info": {
   "codemirror_mode": {
    "name": "ipython",
    "version": 3
   },
   "file_extension": ".py",
   "mimetype": "text/x-python",
   "name": "python",
   "nbconvert_exporter": "python",
   "pygments_lexer": "ipython3",
   "version": "3.6.5"
  }
 },
 "nbformat": 4,
 "nbformat_minor": 2
}