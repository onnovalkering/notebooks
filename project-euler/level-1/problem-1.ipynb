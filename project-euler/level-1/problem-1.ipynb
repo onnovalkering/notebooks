{
 "cells": [
  {
   "cell_type": "markdown",
   "metadata": {},
   "source": [
    "#### https://projecteuler.net/problem=1"
   ]
  },
  {
   "cell_type": "markdown",
   "metadata": {},
   "source": [
    "We first determine the multiples of 3 and 5, below 1000, seperatly. "
   ]
  },
  {
   "cell_type": "code",
   "execution_count": 1,
   "metadata": {},
   "outputs": [],
   "source": [
    "max_multiple_03 = 999 // 3\n",
    "max_multiple_05 = 999 // 5\n",
    "\n",
    "multiples_03 = [i * 3 for i in range(0, max_multiple_03 + 1)]\n",
    "multiples_05 = [i * 5 for i in range(0, max_multiple_05 + 1)]"
   ]
  },
  {
   "cell_type": "markdown",
   "metadata": {},
   "source": [
    "Because we determined the multiples seperatly, we've duplicates of multiples of $3\\cdot5$."
   ]
  },
  {
   "cell_type": "code",
   "execution_count": 2,
   "metadata": {},
   "outputs": [],
   "source": [
    "max_multiple_15 = 999 // 15\n",
    "\n",
    "multiples_15 = [i * 15 for i in range(0, max_multiple_15 + 1)]"
   ]
  },
  {
   "cell_type": "markdown",
   "metadata": {},
   "source": [
    "The final answer is obtained by summing the multiples of 3 and 5, and subtracting the multiples of 15."
   ]
  },
  {
   "cell_type": "code",
   "execution_count": 3,
   "metadata": {},
   "outputs": [
    {
     "data": {
      "text/plain": [
       "233168"
      ]
     },
     "execution_count": 3,
     "metadata": {},
     "output_type": "execute_result"
    }
   ],
   "source": [
    "sum(multiples_03) + sum(multiples_05) - sum(multiples_15)"
   ]
  }
 ],
 "metadata": {
  "kernelspec": {
   "display_name": "Python",
   "language": "python",
   "name": "python3"
  },
  "language_info": {
   "codemirror_mode": {
    "name": "ipython",
    "version": 3
   },
   "file_extension": ".py",
   "mimetype": "text/x-python",
   "name": "python",
   "nbconvert_exporter": "python",
   "pygments_lexer": "ipython3",
   "version": "3.6.3"
  }
 },
 "nbformat": 4,
 "nbformat_minor": 2
}
