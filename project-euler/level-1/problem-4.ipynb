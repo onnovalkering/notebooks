{
 "cells": [
  {
   "cell_type": "markdown",
   "metadata": {},
   "source": [
    "#### https://projecteuler.net/problem=4"
   ]
  },
  {
   "cell_type": "markdown",
   "metadata": {},
   "source": [
    "We need two variables for the 3-digit numbers."
   ]
  },
  {
   "cell_type": "code",
   "execution_count": 1,
   "metadata": {},
   "outputs": [],
   "source": [
    "p = -1\n",
    "a = 1\n",
    "b = 1"
   ]
  },
  {
   "cell_type": "markdown",
   "metadata": {},
   "source": [
    "And a function to check if a product is a palindrome:"
   ]
  },
  {
   "cell_type": "code",
   "execution_count": 2,
   "metadata": {},
   "outputs": [],
   "source": [
    "def is_palindrome(product):\n",
    "    product = str(product)\n",
    "    \n",
    "    cursor1 = 0\n",
    "    cursor2 = len(product) - 1\n",
    "    \n",
    "    while cursor1 < cursor2:\n",
    "        if product[cursor1] is not product[cursor2]:\n",
    "            return False\n",
    "\n",
    "        cursor1 = cursor1 + 1\n",
    "        cursor2 = cursor2 - 1\n",
    "            \n",
    "    return True"
   ]
  },
  {
   "cell_type": "markdown",
   "metadata": {},
   "source": [
    "We use a brute-force approach to find the solution to this problem."
   ]
  },
  {
   "cell_type": "code",
   "execution_count": 3,
   "metadata": {},
   "outputs": [
    {
     "data": {
      "text/plain": [
       "906609"
      ]
     },
     "execution_count": 3,
     "metadata": {},
     "output_type": "execute_result"
    }
   ],
   "source": [
    "while True:\n",
    "    c = a * b\n",
    "    \n",
    "    if is_palindrome(c) and c > p:\n",
    "        p = c\n",
    "        \n",
    "    a = a + 1\n",
    "    \n",
    "    if a == 1000:\n",
    "        a = 1\n",
    "        b = b + 1\n",
    "    \n",
    "    if b == 1000:\n",
    "        break\n",
    "        \n",
    "p"
   ]
  }
 ],
 "metadata": {
  "kernelspec": {
   "display_name": "Python",
   "language": "python",
   "name": "python3"
  },
  "language_info": {
   "codemirror_mode": {
    "name": "ipython",
    "version": 3
   },
   "file_extension": ".py",
   "mimetype": "text/x-python",
   "name": "python",
   "nbconvert_exporter": "python",
   "pygments_lexer": "ipython3",
   "version": "3.6.3"
  }
 },
 "nbformat": 4,
 "nbformat_minor": 2
}
