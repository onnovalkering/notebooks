{
 "cells": [
  {
   "cell_type": "markdown",
   "metadata": {},
   "source": [
    "#### https://projecteuler.net/problem=3"
   ]
  },
  {
   "cell_type": "markdown",
   "metadata": {},
   "source": [
    "We need two variables, one for the remainder, one for the biggest (observed) prime."
   ]
  },
  {
   "cell_type": "code",
   "execution_count": 1,
   "metadata": {},
   "outputs": [],
   "source": [
    "r = 600851475143\n",
    "p = -1"
   ]
  },
  {
   "cell_type": "markdown",
   "metadata": {},
   "source": [
    "And a way to genereate prime numbers."
   ]
  },
  {
   "cell_type": "code",
   "execution_count": 2,
   "metadata": {},
   "outputs": [],
   "source": [
    "# https://stackoverflow.com/a/27510501/957882\n",
    "import itertools\n",
    "\n",
    "def check_prime(n, primes):\n",
    "    for p in primes:\n",
    "        if not n % p:\n",
    "            return False\n",
    "    return True\n",
    "\n",
    "def prime_sieve():\n",
    "    primes = set()\n",
    "    for n in itertools.count(2):\n",
    "        if check_prime(n, primes):\n",
    "            primes.add(n)\n",
    "            yield n"
   ]
  },
  {
   "cell_type": "markdown",
   "metadata": {},
   "source": [
    "Essentially, we keep dividing the remainder by prime numbers. The largest prime will emerge."
   ]
  },
  {
   "cell_type": "code",
   "execution_count": 3,
   "metadata": {},
   "outputs": [
    {
     "data": {
      "text/plain": [
       "6857"
      ]
     },
     "execution_count": 3,
     "metadata": {},
     "output_type": "execute_result"
    }
   ],
   "source": [
    "s = prime_sieve()\n",
    "\n",
    "while True:\n",
    "    c = next(s)\n",
    "    \n",
    "    # Stop if trying to divide r by a\n",
    "    # larger number, this doesn't makes\n",
    "    # much sense in the current context.\n",
    "    if c > r:\n",
    "        break\n",
    "    \n",
    "    if r % c == 0:\n",
    "        r = r / c\n",
    "        \n",
    "        # Updated biggest (observed) prime.\n",
    "        if c > p:\n",
    "            p = c\n",
    "        \n",
    "        s = prime_sieve()\n",
    "        \n",
    "p"
   ]
  }
 ],
 "metadata": {
  "kernelspec": {
   "display_name": "Python",
   "language": "python",
   "name": "python3"
  },
  "language_info": {
   "codemirror_mode": {
    "name": "ipython",
    "version": 3
   },
   "file_extension": ".py",
   "mimetype": "text/x-python",
   "name": "python",
   "nbconvert_exporter": "python",
   "pygments_lexer": "ipython3",
   "version": "3.6.3"
  }
 },
 "nbformat": 4,
 "nbformat_minor": 2
}
