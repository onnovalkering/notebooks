{
 "cells": [
  {
   "cell_type": "markdown",
   "metadata": {},
   "source": [
    "#### https://projecteuler.net/problem=5"
   ]
  },
  {
   "cell_type": "markdown",
   "metadata": {},
   "source": [
    "We use a brute-force approach to find the solution to this problem."
   ]
  },
  {
   "cell_type": "code",
   "execution_count": 1,
   "metadata": {},
   "outputs": [
    {
     "data": {
      "text/plain": [
       "232792560"
      ]
     },
     "execution_count": 1,
     "metadata": {},
     "output_type": "execute_result"
    }
   ],
   "source": [
    "i = 0\n",
    "while True:\n",
    "    i = i + 20\n",
    "    \n",
    "    if i % 11 != 0:\n",
    "        continue\n",
    "    if i % 13 != 0:\n",
    "        continue\n",
    "    if i % 14 != 0:\n",
    "        continue\n",
    "    if i % 15 != 0:\n",
    "        continue\n",
    "    if i % 16 != 0:\n",
    "        continue\n",
    "    if i % 17 != 0:\n",
    "        continue    \n",
    "    if i % 18 != 0:\n",
    "        continue   \n",
    "    if i % 19 != 0:\n",
    "        continue\n",
    "        \n",
    "    break\n",
    "    \n",
    "i   "
   ]
  }
 ],
 "metadata": {
  "kernelspec": {
   "display_name": "Python",
   "language": "python",
   "name": "python3"
  },
  "language_info": {
   "codemirror_mode": {
    "name": "ipython",
    "version": 3
   },
   "file_extension": ".py",
   "mimetype": "text/x-python",
   "name": "python",
   "nbconvert_exporter": "python",
   "pygments_lexer": "ipython3",
   "version": "3.6.3"
  }
 },
 "nbformat": 4,
 "nbformat_minor": 2
}
